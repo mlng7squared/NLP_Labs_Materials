{
  "nbformat": 4,
  "nbformat_minor": 0,
  "metadata": {
    "colab": {
      "provenance": [],
      "toc_visible": true
    },
    "kernelspec": {
      "name": "python3",
      "display_name": "Python 3"
    }
  },
  "cells": [
    {
      "cell_type": "markdown",
      "metadata": {
        "id": "rFBFgEEkIaQ-"
      },
      "source": [
        "# Lab 8 Dependency parsing\n"
      ]
    },
    {
      "cell_type": "markdown",
      "source": [
        "## KEY CONTENTS FROM LECTURE\n",
        "\n",
        "*  **WHAT IS PARSING** : the parser turns a list of tokens into a tree of nodes == to understand the logical order\n",
        "*  **TWO MAIN WAYS TO DO PARSING**\n",
        "1.  Constituency Parsing -- groups of words (i.e., constituents) can act as single units --- CP focuses more on making it easy to read and understand about the structure of the sentenct.\n",
        "\n",
        "2.  Dependency Parsing -- represents language as a graph (nodes are words, edges are dependencies) ---> produces meaningful semantic meaning for a relation \n",
        "\n",
        "    > Graph-based DP\n",
        "        \n",
        "    * Maximum Spanning Tree: Given an input sentence, constructe a fully-connected, weighted, directed graph. MST represents the preferred dependency parse for the sentence, as determined by the weights.\n",
        "\n",
        "    > Transition-based DP\n",
        "        \n",
        "        > Greedy transition-based parsing\n",
        "        \n",
        "        > The arc-standard algortihm\n",
        "\n",
        "3. Evaluation of Dependency Parsing\n",
        "    \n",
        "    *  The most commonly used metric in dependency parsing is the (labeled or unlabeled) attachment score, which measures the percentage of words that have been assigned the correct head (with or without taking the dependency label into account).\n",
        "       \n",
        "        > Unlabeled Attachment Score (UAS) = head\n",
        "\n",
        "        > Labeled Attachment Score (LAS) = head and label\n",
        "\n",
        "            "
      ],
      "metadata": {
        "id": "foRG6soZVRbX"
      }
    },
    {
      "cell_type": "code",
      "source": [
        "# Examples of Constituents\n",
        "## Noun Phrases - 'she, the house, Robin Hood and his wife'; \n",
        "## Verb Phrases - 'loved, was told to sit down and be quiet'; \n",
        "## Prepositional Phrases - 'on it, with the telescope') \n",
        "\n",
        "# Simple Steps for Constituency Parsing\n",
        "## Starting from single token, and then combining them into bigger phrases recursively. \n"
      ],
      "metadata": {
        "id": "uTPLMyX9dPrD"
      },
      "execution_count": null,
      "outputs": []
    },
    {
      "cell_type": "code",
      "source": [
        "# Graph-based DP\n",
        "## STEPS \n",
        "## 1. compute a score for every psosible dependency for each edge -- to pick the 'head' for chosen word based on the calculated score that is calculated based on the dataset previously annotated\n",
        "## ARROW/EDGE - ARROW FROM ONE NODE (HEAD) TO ANOTHER NODE (DEPENDENT)\n",
        "### for each word, all arrow point to the wrod are the word's 'head' candidate, \n",
        "### one with the highest score wins\n",
        "\n",
        "## 2. add an edge from each word to its highest-scoring candidate head \n",
        "## 3. repeat the same process for each other word\n",
        "\n",
        "# HOW TO FIND MST?\n",
        "'''\n",
        "E =stores= All Edges\n",
        "score =stores= scores on each edge\n",
        "F = [] ## Edges\n",
        "T = [] ## Sub-Graph // sub-tree\n",
        "scores' = []\n",
        "\n",
        "for v in V do:\n",
        "    bestInEdge = argmax_e=(u,v)inE score[e]\n",
        "    F.append(bestInEdge)\n",
        "    for e=(u,v)inE do:\n",
        "        scores'[e] = score[e] - score[bestInEdge]\n",
        "    \n",
        "    if T=(V,F) is a spanning tree: \n",
        "        ## spanning tree is T // subgraph // a tree that covers all vertices, but no cycle\n",
        "        ## or say, st is a connected graph using all vertices in which there are no circuits\n",
        "        return T\n",
        "    else:\n",
        "        C = a cyle in F\n",
        "        G' = collapse(G,C)\n",
        "        T' = maxspanningtree(G',root,score') # recursively call the current function\n",
        "        T = expand(T',C)\n",
        "        return T\n",
        "'''\n",
        "## a lot of algorithms can be used to find MST -- Prim's Algorithms, Kruskai's Algorithm"
      ],
      "metadata": {
        "id": "djbgGBz5-eIP"
      },
      "execution_count": null,
      "outputs": []
    },
    {
      "cell_type": "code",
      "source": [
        "# The Arc-Standard Algorithm -- greedy algorithm\n",
        "\n",
        "## Shift operation -- Push the next word in buffer onto the stack -- if the input buffer is empty, the shift operation is invalid\n",
        "## Left-Arc operation -- Add an arc from the topmost word to the 2nd-topmost word on the stack  \n",
        "## -- if the second word on the stack is 'root', cannot apply Left-Arc (as Root cannot have incoming arc)\n",
        "## Right-Arc operation -- Add an arc from the 2nd-topmost word to the topmost word on the stack\n",
        "### arc from head, pointing to the dependent\n",
        "\n",
        "'''\n",
        "state = {[root],[words],[]} ## [words] = an input buffer containing the list of words in order; [] = an empty set of dependency relations\n",
        "while state not final: ## final == only [root] element remaining on the stack/state\n",
        "    # choose which transition operator to apply\n",
        "    transition = oracle(state) ## oracle provides a single choice at each step\n",
        "    ## how does oracle make decisions?? --> trained by supervised learning\n",
        "\n",
        "    # apply the operator and create a new state\n",
        "    state = apply(transition,state)\n",
        "'''"
      ],
      "metadata": {
        "id": "Zcy-fKe1N3aP"
      },
      "execution_count": null,
      "outputs": []
    },
    {
      "cell_type": "markdown",
      "metadata": {
        "id": "bJkHSIOyIpUh"
      },
      "source": [
        "## Dependency Parsing Exercise\n",
        "\n",
        "Let's parse the following sentence!\n",
        "\n",
        "*  I prefer the morning flight through Denver\n",
        "\n",
        "Do this parsing exercise (probably easiest to do on paper) and ***compare with the answer (at the end of this lab)***. Note - you do not need to include labels in your parse. We have provided them in the answer just for your information.\n",
        "\n",
        "In places where your answer is different, think about whether it is a mistake, or whether there are two ways of interpreting the sentence and you chose a different one than the one we provide.\n",
        "\n",
        "For information about how to do dependency parsing, see the lecture 7 recording.\n"
      ]
    },
    {
      "cell_type": "markdown",
      "metadata": {
        "id": "dK4z5pWkQEMe"
      },
      "source": [
        "## Off-the-Shelf Tool (spaCy Parser)\n",
        "Now let's use [spaCy](https://spacy.io/) to automatically parse sentences.\n",
        "SpaCy provides several parsing models, some based on neural networks and some based on linear models.\n",
        "\n",
        "Parse the sentence ***'The woman showed a wellshaped smile in the dark.'*** (note, the typo, combining 'well' and 'shaped' is intentional, to match data we are using later)\n"
      ]
    },
    {
      "cell_type": "code",
      "metadata": {
        "id": "LBrzHpnzIBrl",
        "colab": {
          "base_uri": "https://localhost:8080/"
        },
        "outputId": "348f2085-641f-4176-dc27-19b1f58a5f24"
      },
      "source": [
        "import spacy\n",
        "#PrettyTable is a Python library for generating attractive ASCII tables.\n",
        "from prettytable import PrettyTable\n",
        "\n",
        "#load the spacy api with the pre-trained statistical models for English. English multi-task CNN trained on the OntoNotes corpus\n",
        "nlp = spacy.load(\"en_core_web_sm\")\n",
        "\n",
        "#define the sentence\n",
        "sentence = \"The woman showed a wellshaped smile in the dark\"\n",
        "parse = nlp(sentence)\n",
        "\n",
        "x = PrettyTable()\n",
        "#define column names\n",
        "x.field_names = [\"TokenID\", \"Token\", \"HeadID\", \"Dependency\"]\n",
        "\n",
        "#spaCy does not provide the fake ROOT token so add a row for the fake Root\n",
        "x.add_row([0,\"ROOT\",0,\"-\"])\n",
        "\n",
        "#recording the dependency for each token\n",
        "## token.i == id of the token stored in spacy\n",
        "## token.head.i == id of the head of the token stored in spacy\n",
        "\n",
        "for token in parse:\n",
        "  if token.dep_==\"ROOT\":\n",
        "    x.add_row([token.i+1,token.text,\"0\",token.dep_])\n",
        "  else:  \n",
        "    x.add_row([token.i+1,token.text,token.head.i+1,token.dep_])\n",
        "    \n",
        "print(\"Parsing Result with Spacy API\")\n",
        "#printing the table\n",
        "print(x)"
      ],
      "execution_count": 1,
      "outputs": [
        {
          "output_type": "stream",
          "name": "stdout",
          "text": [
            "The woman showed a wellshaped smile in the dark\n",
            "showed\n",
            "2\n",
            "ROOT\n",
            "Parsing Result with Spacy API\n",
            "+---------+------------+--------+------------+\n",
            "| TokenID |   Token    | HeadID | Dependency |\n",
            "+---------+------------+--------+------------+\n",
            "|    0    |    ROOT    |   0    |     -      |\n",
            "|    1    |    The     |   2    |    det     |\n",
            "|    2    |   woman    |   3    |   nsubj    |\n",
            "|    3    |   showed   |   0    |    ROOT    |\n",
            "|    4    |     a      |   6    |    det     |\n",
            "|    5    | wellshaped |   6    |    amod    |\n",
            "|    6    |   smile    |   3    |    dobj    |\n",
            "|    7    |     in     |   3    |    prep    |\n",
            "|    8    |    the     |   9    |    det     |\n",
            "|    9    |    dark    |   7    |    pobj    |\n",
            "+---------+------------+--------+------------+\n"
          ]
        }
      ]
    },
    {
      "cell_type": "markdown",
      "metadata": {
        "id": "IPFBPiKNlvs1"
      },
      "source": [
        "## Parsing Visualisation\n",
        "Spacy includes a built-in visualisation suite, [displaCy](https://spacy.io/api/top-level#displacy). It makes it easier to see the dependency structure. In this case, the output is mostly correct, except for 'in' and 'dark'. The head of 'in' should be 'dark', and the head of 'dark' should be 'showed'."
      ]
    },
    {
      "cell_type": "code",
      "metadata": {
        "id": "597ayAB7ydNw",
        "colab": {
          "base_uri": "https://localhost:8080/",
          "height": 338
        },
        "outputId": "759c0c4c-617b-4660-b4fe-b6156bda3089"
      },
      "source": [
        "#spaCy comes with a built-in visualisation suite\n",
        "from spacy import displacy\n",
        "\n",
        "doc = nlp(sentence)\n",
        "displacy.render(doc, style='dep', jupyter=True, options={'distance':90})\n"
      ],
      "execution_count": null,
      "outputs": [
        {
          "output_type": "display_data",
          "data": {
            "text/plain": [
              "<IPython.core.display.HTML object>"
            ],
            "text/html": [
              "<span class=\"tex2jax_ignore\"><svg xmlns=\"http://www.w3.org/2000/svg\" xmlns:xlink=\"http://www.w3.org/1999/xlink\" xml:lang=\"en\" id=\"bb1378078e2046878c0779e38fc2faf3-0\" class=\"displacy\" width=\"860\" height=\"317.0\" direction=\"ltr\" style=\"max-width: none; height: 317.0px; color: #000000; background: #ffffff; font-family: Arial; direction: ltr\">\n",
              "<text class=\"displacy-token\" fill=\"currentColor\" text-anchor=\"middle\" y=\"227.0\">\n",
              "    <tspan class=\"displacy-word\" fill=\"currentColor\" x=\"50\">The</tspan>\n",
              "    <tspan class=\"displacy-tag\" dy=\"2em\" fill=\"currentColor\" x=\"50\">DET</tspan>\n",
              "</text>\n",
              "\n",
              "<text class=\"displacy-token\" fill=\"currentColor\" text-anchor=\"middle\" y=\"227.0\">\n",
              "    <tspan class=\"displacy-word\" fill=\"currentColor\" x=\"140\">woman</tspan>\n",
              "    <tspan class=\"displacy-tag\" dy=\"2em\" fill=\"currentColor\" x=\"140\">NOUN</tspan>\n",
              "</text>\n",
              "\n",
              "<text class=\"displacy-token\" fill=\"currentColor\" text-anchor=\"middle\" y=\"227.0\">\n",
              "    <tspan class=\"displacy-word\" fill=\"currentColor\" x=\"230\">showed</tspan>\n",
              "    <tspan class=\"displacy-tag\" dy=\"2em\" fill=\"currentColor\" x=\"230\">VERB</tspan>\n",
              "</text>\n",
              "\n",
              "<text class=\"displacy-token\" fill=\"currentColor\" text-anchor=\"middle\" y=\"227.0\">\n",
              "    <tspan class=\"displacy-word\" fill=\"currentColor\" x=\"320\">a</tspan>\n",
              "    <tspan class=\"displacy-tag\" dy=\"2em\" fill=\"currentColor\" x=\"320\">DET</tspan>\n",
              "</text>\n",
              "\n",
              "<text class=\"displacy-token\" fill=\"currentColor\" text-anchor=\"middle\" y=\"227.0\">\n",
              "    <tspan class=\"displacy-word\" fill=\"currentColor\" x=\"410\">wellshaped</tspan>\n",
              "    <tspan class=\"displacy-tag\" dy=\"2em\" fill=\"currentColor\" x=\"410\">VERB</tspan>\n",
              "</text>\n",
              "\n",
              "<text class=\"displacy-token\" fill=\"currentColor\" text-anchor=\"middle\" y=\"227.0\">\n",
              "    <tspan class=\"displacy-word\" fill=\"currentColor\" x=\"500\">smile</tspan>\n",
              "    <tspan class=\"displacy-tag\" dy=\"2em\" fill=\"currentColor\" x=\"500\">NOUN</tspan>\n",
              "</text>\n",
              "\n",
              "<text class=\"displacy-token\" fill=\"currentColor\" text-anchor=\"middle\" y=\"227.0\">\n",
              "    <tspan class=\"displacy-word\" fill=\"currentColor\" x=\"590\">in</tspan>\n",
              "    <tspan class=\"displacy-tag\" dy=\"2em\" fill=\"currentColor\" x=\"590\">ADP</tspan>\n",
              "</text>\n",
              "\n",
              "<text class=\"displacy-token\" fill=\"currentColor\" text-anchor=\"middle\" y=\"227.0\">\n",
              "    <tspan class=\"displacy-word\" fill=\"currentColor\" x=\"680\">the</tspan>\n",
              "    <tspan class=\"displacy-tag\" dy=\"2em\" fill=\"currentColor\" x=\"680\">DET</tspan>\n",
              "</text>\n",
              "\n",
              "<text class=\"displacy-token\" fill=\"currentColor\" text-anchor=\"middle\" y=\"227.0\">\n",
              "    <tspan class=\"displacy-word\" fill=\"currentColor\" x=\"770\">dark.</tspan>\n",
              "    <tspan class=\"displacy-tag\" dy=\"2em\" fill=\"currentColor\" x=\"770\">NOUN</tspan>\n",
              "</text>\n",
              "\n",
              "<g class=\"displacy-arrow\">\n",
              "    <path class=\"displacy-arc\" id=\"arrow-bb1378078e2046878c0779e38fc2faf3-0-0\" stroke-width=\"2px\" d=\"M70,182.0 C70,137.0 125.0,137.0 125.0,182.0\" fill=\"none\" stroke=\"currentColor\"/>\n",
              "    <text dy=\"1.25em\" style=\"font-size: 0.8em; letter-spacing: 1px\">\n",
              "        <textPath xlink:href=\"#arrow-bb1378078e2046878c0779e38fc2faf3-0-0\" class=\"displacy-label\" startOffset=\"50%\" side=\"left\" fill=\"currentColor\" text-anchor=\"middle\">det</textPath>\n",
              "    </text>\n",
              "    <path class=\"displacy-arrowhead\" d=\"M70,184.0 L62,172.0 78,172.0\" fill=\"currentColor\"/>\n",
              "</g>\n",
              "\n",
              "<g class=\"displacy-arrow\">\n",
              "    <path class=\"displacy-arc\" id=\"arrow-bb1378078e2046878c0779e38fc2faf3-0-1\" stroke-width=\"2px\" d=\"M160,182.0 C160,137.0 215.0,137.0 215.0,182.0\" fill=\"none\" stroke=\"currentColor\"/>\n",
              "    <text dy=\"1.25em\" style=\"font-size: 0.8em; letter-spacing: 1px\">\n",
              "        <textPath xlink:href=\"#arrow-bb1378078e2046878c0779e38fc2faf3-0-1\" class=\"displacy-label\" startOffset=\"50%\" side=\"left\" fill=\"currentColor\" text-anchor=\"middle\">nsubj</textPath>\n",
              "    </text>\n",
              "    <path class=\"displacy-arrowhead\" d=\"M160,184.0 L152,172.0 168,172.0\" fill=\"currentColor\"/>\n",
              "</g>\n",
              "\n",
              "<g class=\"displacy-arrow\">\n",
              "    <path class=\"displacy-arc\" id=\"arrow-bb1378078e2046878c0779e38fc2faf3-0-2\" stroke-width=\"2px\" d=\"M340,182.0 C340,92.0 490.0,92.0 490.0,182.0\" fill=\"none\" stroke=\"currentColor\"/>\n",
              "    <text dy=\"1.25em\" style=\"font-size: 0.8em; letter-spacing: 1px\">\n",
              "        <textPath xlink:href=\"#arrow-bb1378078e2046878c0779e38fc2faf3-0-2\" class=\"displacy-label\" startOffset=\"50%\" side=\"left\" fill=\"currentColor\" text-anchor=\"middle\">det</textPath>\n",
              "    </text>\n",
              "    <path class=\"displacy-arrowhead\" d=\"M340,184.0 L332,172.0 348,172.0\" fill=\"currentColor\"/>\n",
              "</g>\n",
              "\n",
              "<g class=\"displacy-arrow\">\n",
              "    <path class=\"displacy-arc\" id=\"arrow-bb1378078e2046878c0779e38fc2faf3-0-3\" stroke-width=\"2px\" d=\"M430,182.0 C430,137.0 485.0,137.0 485.0,182.0\" fill=\"none\" stroke=\"currentColor\"/>\n",
              "    <text dy=\"1.25em\" style=\"font-size: 0.8em; letter-spacing: 1px\">\n",
              "        <textPath xlink:href=\"#arrow-bb1378078e2046878c0779e38fc2faf3-0-3\" class=\"displacy-label\" startOffset=\"50%\" side=\"left\" fill=\"currentColor\" text-anchor=\"middle\">amod</textPath>\n",
              "    </text>\n",
              "    <path class=\"displacy-arrowhead\" d=\"M430,184.0 L422,172.0 438,172.0\" fill=\"currentColor\"/>\n",
              "</g>\n",
              "\n",
              "<g class=\"displacy-arrow\">\n",
              "    <path class=\"displacy-arc\" id=\"arrow-bb1378078e2046878c0779e38fc2faf3-0-4\" stroke-width=\"2px\" d=\"M250,182.0 C250,47.0 495.0,47.0 495.0,182.0\" fill=\"none\" stroke=\"currentColor\"/>\n",
              "    <text dy=\"1.25em\" style=\"font-size: 0.8em; letter-spacing: 1px\">\n",
              "        <textPath xlink:href=\"#arrow-bb1378078e2046878c0779e38fc2faf3-0-4\" class=\"displacy-label\" startOffset=\"50%\" side=\"left\" fill=\"currentColor\" text-anchor=\"middle\">dobj</textPath>\n",
              "    </text>\n",
              "    <path class=\"displacy-arrowhead\" d=\"M495.0,184.0 L503.0,172.0 487.0,172.0\" fill=\"currentColor\"/>\n",
              "</g>\n",
              "\n",
              "<g class=\"displacy-arrow\">\n",
              "    <path class=\"displacy-arc\" id=\"arrow-bb1378078e2046878c0779e38fc2faf3-0-5\" stroke-width=\"2px\" d=\"M250,182.0 C250,2.0 590.0,2.0 590.0,182.0\" fill=\"none\" stroke=\"currentColor\"/>\n",
              "    <text dy=\"1.25em\" style=\"font-size: 0.8em; letter-spacing: 1px\">\n",
              "        <textPath xlink:href=\"#arrow-bb1378078e2046878c0779e38fc2faf3-0-5\" class=\"displacy-label\" startOffset=\"50%\" side=\"left\" fill=\"currentColor\" text-anchor=\"middle\">prep</textPath>\n",
              "    </text>\n",
              "    <path class=\"displacy-arrowhead\" d=\"M590.0,184.0 L598.0,172.0 582.0,172.0\" fill=\"currentColor\"/>\n",
              "</g>\n",
              "\n",
              "<g class=\"displacy-arrow\">\n",
              "    <path class=\"displacy-arc\" id=\"arrow-bb1378078e2046878c0779e38fc2faf3-0-6\" stroke-width=\"2px\" d=\"M700,182.0 C700,137.0 755.0,137.0 755.0,182.0\" fill=\"none\" stroke=\"currentColor\"/>\n",
              "    <text dy=\"1.25em\" style=\"font-size: 0.8em; letter-spacing: 1px\">\n",
              "        <textPath xlink:href=\"#arrow-bb1378078e2046878c0779e38fc2faf3-0-6\" class=\"displacy-label\" startOffset=\"50%\" side=\"left\" fill=\"currentColor\" text-anchor=\"middle\">det</textPath>\n",
              "    </text>\n",
              "    <path class=\"displacy-arrowhead\" d=\"M700,184.0 L692,172.0 708,172.0\" fill=\"currentColor\"/>\n",
              "</g>\n",
              "\n",
              "<g class=\"displacy-arrow\">\n",
              "    <path class=\"displacy-arc\" id=\"arrow-bb1378078e2046878c0779e38fc2faf3-0-7\" stroke-width=\"2px\" d=\"M610,182.0 C610,92.0 760.0,92.0 760.0,182.0\" fill=\"none\" stroke=\"currentColor\"/>\n",
              "    <text dy=\"1.25em\" style=\"font-size: 0.8em; letter-spacing: 1px\">\n",
              "        <textPath xlink:href=\"#arrow-bb1378078e2046878c0779e38fc2faf3-0-7\" class=\"displacy-label\" startOffset=\"50%\" side=\"left\" fill=\"currentColor\" text-anchor=\"middle\">pobj</textPath>\n",
              "    </text>\n",
              "    <path class=\"displacy-arrowhead\" d=\"M760.0,184.0 L768.0,172.0 752.0,172.0\" fill=\"currentColor\"/>\n",
              "</g>\n",
              "</svg></span>"
            ]
          },
          "metadata": {}
        }
      ]
    },
    {
      "cell_type": "markdown",
      "metadata": {
        "id": "3107D_pcZ4Ma"
      },
      "source": [
        "### How can we evaluate the parsing result?\n",
        "\n",
        "We compare the output with a gold standard set of annotations produced by people.\n",
        "\n",
        "[Universal Dependencies](http://universaldependencies.org/) is a large project with many researchers working to create a consistent set of dependency annotations for many different languages and types of text. "
      ]
    },
    {
      "cell_type": "markdown",
      "metadata": {
        "id": "DjhCdUbrdmc_"
      },
      "source": [
        "## Parsing Evaluation (with Universal Dependencies)\n",
        "\n",
        "The following code shows a function for evaluating the performance of the spaCy parser on Universal Dependencies data.\n",
        "\n",
        "First we need to install a library to process that data format used by Universal Dependencies: [CoNLL-U](http://universaldependencies.org/format.html).\n",
        "\n"
      ]
    },
    {
      "cell_type": "code",
      "metadata": {
        "id": "DQGM_iDDeE-w",
        "colab": {
          "base_uri": "https://localhost:8080/"
        },
        "outputId": "64f6fbfd-2a04-4849-fc9b-6da59d7b0288"
      },
      "source": [
        "#CoNLL-U Parser parses a CoNLL-U formatted string into a nested python dictionary. \n",
        "!pip install conllu"
      ],
      "execution_count": null,
      "outputs": [
        {
          "output_type": "stream",
          "name": "stdout",
          "text": [
            "Looking in indexes: https://pypi.org/simple, https://us-python.pkg.dev/colab-wheels/public/simple/\n",
            "Collecting conllu\n",
            "  Downloading conllu-4.5.2-py2.py3-none-any.whl (16 kB)\n",
            "Installing collected packages: conllu\n",
            "Successfully installed conllu-4.5.2\n"
          ]
        }
      ]
    },
    {
      "cell_type": "markdown",
      "metadata": {
        "id": "T3l8nZ--E9tV"
      },
      "source": [
        "Next, we'll define an evaluation function to compare predicted and gold dependency parses."
      ]
    },
    {
      "cell_type": "code",
      "metadata": {
        "id": "DytKlRoEbWzA"
      },
      "source": [
        "import numpy as np\n",
        "import conllu as conllu\n",
        "from conllu import parse\n",
        "\n",
        "#text: the text that you would like to parse\n",
        "#gold: the gold-standard annotation for the text\n",
        "def evaluate_sentence_parsing(text, gold):\n",
        "  #parse the text with spaCy API\n",
        "  parse = nlp(text)\n",
        "  #setup the table for the parsing result table\n",
        "  x = PrettyTable()\n",
        "  x.field_names = [\"TokenID\", \"Token\", \"HeadID\", \"Dependency\"]\n",
        "  x.add_row([0,\"root\",0,\"-\"])\n",
        "\n",
        "  for token in parse:\n",
        "    if token.dep_==\"ROOT\":\n",
        "      x.add_row([token.i+1,token.text,\"0\",\"root\"])\n",
        "      token.dep_=\"root\"\n",
        "    else:  \n",
        "      x.add_row([token.i+1,token.text,token.head.i+1,token.dep_])\n",
        " \n",
        "  #printing the parsing result\n",
        "  print(\"Parsing Result with Spacy API\")\n",
        "  print(x)\n",
        "  \n",
        "  #setup the table for the parsing result table\n",
        "  y = PrettyTable()\n",
        "  y.field_names = [\"TokenID\", \"Token\", \"HeadID\", \"Dependency\"]\n",
        "  y.add_row([0,\"root\",0,\"-\"])\n",
        "\n",
        "  #read the gold-standard with the conll-u library. Note, it says 'parse' here,\n",
        "  #but we are not running a syntactic parser, this is 'parse' in the sense of 'process an input file'. \n",
        "  sentences = conllu.parse(gold)\n",
        "  sentence = sentences[0]\n",
        "\n",
        "  for token in sentence:\n",
        "    if token['deprel']==\"root\":\n",
        "      y.add_row([token['id'],token['form'],\"0\",token['deprel']])\n",
        "    else:  \n",
        "      y.add_row([token['id'],token['form'],token['head'],token['deprel']])\n",
        "  print(\"Gold-Standard Annotation\")\n",
        "  print(y)\n",
        "\n",
        "  #summarise the list of predicted heads\n",
        "  pred_head = [t.head.i+1 if i != t.head.i else 0 for i, t in enumerate(parse)]\n",
        "  #summarise the list of gold heads\n",
        "  gold_head = [token['head'] for i, token in enumerate(sentence)]\n",
        "  \n",
        "  #summarise the list of predicted dependency relations\n",
        "  pred_dep = [t.dep_ for i, t in enumerate(parse)]\n",
        "  #summarise the list of gold dependency relations\n",
        "  gold_dep = [token['deprel'] for i, token in enumerate(sentence)] \n",
        "  \n",
        "  print(\"\\n\\nParsing Result vs Gold - Head\")\n",
        "  print(pred_head)\n",
        "  print(gold_head)\n",
        "\n",
        "  print(\"\\n\\nParsing Result vs Gold - Dependency\")\n",
        "  print(pred_dep)\n",
        "  print(gold_dep)\n",
        "  \n",
        "  #performance evaluation - Unlabeled Attachment Score (UAS)\n",
        "  #Unlabeled Attachment Score (UAS): the percent of words that have the correct heads\n",
        "  uas_accuracy = np.sum([1 if g == p else 0 for g, p in zip(gold_head, pred_head)]) / len(gold_head)\n",
        "  \n",
        "  \n",
        "  print(\"\\n\\nUnlabeled Attachment Score (UAS)\")\n",
        "  return uas_accuracy  "
      ],
      "execution_count": null,
      "outputs": []
    },
    {
      "cell_type": "markdown",
      "metadata": {
        "id": "QwN4Xe8Am38s"
      },
      "source": [
        "With the above function, let's try to test and evaluate it.\n",
        "There are two evaluation metrics:\n",
        "1. **Unlabeled Attachment Score (UAS)**: the percent of words that have the correct heads\n",
        "2. **Labeled Attachment Score (LAS)**: the percent of words that have the correct heads and labels \n",
        "\n"
      ]
    },
    {
      "cell_type": "code",
      "metadata": {
        "id": "-P2UHiq5c1W7",
        "colab": {
          "base_uri": "https://localhost:8080/"
        },
        "outputId": "f31f6536-1c96-4f51-acb4-63206192315a"
      },
      "source": [
        "#testing sentence\n",
        "text = \"The woman showed a wellshaped smile in the dark.\"\n",
        "\n",
        "#gold-standard of the sentence\n",
        "gold = \"\"\"\n",
        "# text = The woman showed a wellshaped smile in the dark.\n",
        "1\tThe\tthe\tDET\tDEF\tDefinite=Def|PronType=Art\t2\tdet\t_\t_\n",
        "2\twoman\twoman\tNOUN\tSG-NOM\tNumber=Sing\t3\tnsubj\t_\t_\n",
        "3\tshowed\tshow\tVERB\tPAST\tMood=Ind|Tense=Past|VerbForm=Fin\t0\troot\t_\t_\n",
        "4\ta\ta\tDET\tIND-SG\tDefinite=Ind|PronType=Art\t6\tdet\t_\t_\n",
        "5\twellshaped\twellshaped\tADJ\tPOS\tDegree=Pos\t6\tamod\t_\t_\n",
        "6\tsmile\tsmile\tNOUN\tSG-NOM\tCase=Nom\t3\tobj\t_\t_\n",
        "7\tin\tin\tADP\t_\t_\t9\tprep\t_\t_\n",
        "8\tthe\tthe\tDET\tDEF\tDefinite=Def|PronType=Art\t9\tdet\t_\t_\n",
        "9\tdark\tdark\tADJ\tPOS\tDegree=Pos\t3\tobl\t_\tSpaceAfter=No\n",
        "10\t.\t.\tPUNCT\tPeriod\t_\t3\tpunct\t_\t_\n",
        "\"\"\"\n",
        "\n",
        "print(evaluate_sentence_parsing(text, gold))"
      ],
      "execution_count": null,
      "outputs": [
        {
          "output_type": "stream",
          "name": "stdout",
          "text": [
            "Parsing Result with Spacy API\n",
            "+---------+------------+--------+------------+\n",
            "| TokenID |   Token    | HeadID | Dependency |\n",
            "+---------+------------+--------+------------+\n",
            "|    0    |    root    |   0    |     -      |\n",
            "|    1    |    The     |   2    |    det     |\n",
            "|    2    |   woman    |   3    |   nsubj    |\n",
            "|    3    |   showed   |   0    |    root    |\n",
            "|    4    |     a      |   6    |    det     |\n",
            "|    5    | wellshaped |   6    |    amod    |\n",
            "|    6    |   smile    |   3    |    dobj    |\n",
            "|    7    |     in     |   3    |    prep    |\n",
            "|    8    |    the     |   9    |    det     |\n",
            "|    9    |    dark    |   7    |    pobj    |\n",
            "|    10   |     .      |   3    |   punct    |\n",
            "+---------+------------+--------+------------+\n",
            "Gold-Standard Annotation\n",
            "+---------+------------+--------+------------+\n",
            "| TokenID |   Token    | HeadID | Dependency |\n",
            "+---------+------------+--------+------------+\n",
            "|    0    |    root    |   0    |     -      |\n",
            "|    1    |    The     |   2    |    det     |\n",
            "|    2    |   woman    |   3    |   nsubj    |\n",
            "|    3    |   showed   |   0    |    root    |\n",
            "|    4    |     a      |   6    |    det     |\n",
            "|    5    | wellshaped |   6    |    amod    |\n",
            "|    6    |   smile    |   3    |    obj     |\n",
            "|    7    |     in     |   9    |    prep    |\n",
            "|    8    |    the     |   9    |    det     |\n",
            "|    9    |    dark    |   3    |    obl     |\n",
            "|    10   |     .      |   3    |   punct    |\n",
            "+---------+------------+--------+------------+\n",
            "\n",
            "\n",
            "Parsing Result vs Gold - Head\n",
            "[2, 3, 0, 6, 6, 3, 3, 9, 7, 3]\n",
            "[2, 3, 0, 6, 6, 3, 9, 9, 3, 3]\n",
            "\n",
            "\n",
            "Parsing Result vs Gold - Dependency\n",
            "['det', 'nsubj', 'root', 'det', 'amod', 'dobj', 'prep', 'det', 'pobj', 'punct']\n",
            "['det', 'nsubj', 'root', 'det', 'amod', 'obj', 'prep', 'det', 'obl', 'punct']\n",
            "\n",
            "\n",
            "Unlabeled Attachment Score (UAS)\n",
            "0.8\n"
          ]
        }
      ]
    },
    {
      "cell_type": "markdown",
      "metadata": {
        "id": "f80L6uFlnH5p"
      },
      "source": [
        "###Summary\n",
        "The result shows that the UAS is 0.8. \n",
        "\n",
        "It means that there are 2 incorrectly predicted heads out of 10. \n",
        "1.   The gold head of token 'in' is 'dark', whereas the prediction is 'smile'\n",
        "2.   The gold head of token 'dark' is 'showed', whereas the prediction is 'in'.\n",
        "\n",
        "**UAS** is the percent of words that have the correct heads\n",
        "\n",
        "**LAS** is the percent of words that have the correct heads and labels.\n",
        "\n",
        "\n",
        "---\n",
        "\n"
      ]
    },
    {
      "cell_type": "markdown",
      "metadata": {
        "id": "vtPBUrBjeSPt"
      },
      "source": [
        "## Transition-based Dependency Parser\n",
        "\n",
        "A Transition-based Dependency Parser is a simple form of dependency parser. It builds a tree in a left-to-right sweep over the input.\n",
        "\n",
        "\n",
        "The transition-based model consists of:\n",
        "*   a ***buffer***, for storing unprocessed text. At the beginning, it stores the input tokens.\n",
        "*   a ***stack***, for storing elements being processed. At the beginning, it has a ROOT token.\n",
        "*   a list of ***dependency relations***, you can also consider this as the parsing result. It is usually a list of tuples, each of which is a token and its head.\n",
        "\n",
        "The ***arc-standard*** algorithm has three actions which can be applied to change the states of buffer, stack and dependency relation list:\n",
        "\n",
        "*   **LEFTARC**: create a head-dependent relation between the word at the top of the stack and the word directly beneath it; remove the lower word from the stack.\n",
        "*   **RIGHTARC**: create a head-dependent relation between the second word on the stack and the word at the top; remove the word at the top of the stack; \n",
        "*   **SHIFT**: remove the word from the front of the input buffer and push it onto the stack. \n",
        "\n",
        "####Lecture 7 - slide 60\n",
        "![initial dependency parsing state](https://drive.google.com/uc?export=view&id=1nctCvQ8rlBaM-NdVywh0i0HBYRspqtn2)\n",
        "\n",
        "\n",
        "\n"
      ]
    },
    {
      "cell_type": "code",
      "metadata": {
        "id": "i-n50-MeehIn"
      },
      "source": [
        "class Parse(object):\n",
        "    def __init__(self, sentence):\n",
        "        self.sentence = sentence\n",
        "        self.stack = [\"<ROOT>\"] # STACK-LIST\n",
        "        self.buffer = sentence.split() # INPUT-BUFFER-LIST\n",
        "        ## E.G., SENTENCE = 'LISA SAW BART'\n",
        "        self.relations = [] # RELATIONS-LIST\n",
        "\n",
        "   #transition setup\n",
        "    def parse_step(self, action):\n",
        "        assert action in [\"SHIFT\", \"LEFTARC\", \"RIGHTARC\"]\n",
        "        if action == \"SHIFT\":\n",
        "            assert len(self.buffer) > 0 \n",
        "            ## that is, shift operation can only be applied when input buffer not empty (otherwise, there is no element to be shifted)\n",
        "            token = self.buffer.pop(0)\n",
        "            ## E.G., TOKEN = 'LISA'\n",
        "            ## shift token FROM the input-buffer\n",
        "            self.stack.append(token)\n",
        "            ## E.G., SELF.STACK = [\"<ROOT>\",\"LISA\"]\n",
        "            ## shift the token INTO the stack\n",
        "        else:\n",
        "            assert len(self.stack) >= 2\n",
        "            ## that is, left-arc and right-arc operations can only applied when there are at least two elements in the stack\n",
        "            if action == \"LEFTARC\": ## arc from topmost to second-topmost word on the stack\n",
        "                relation = (self.stack[-1], self.stack[-2])\n",
        "                ## self.stack[-1] is the topmost -- that is because stack here is a list, everytime we shift a token from input-buffer into the stack, we append\n",
        "                ### that is, in this code, new token will be 'shifted' into the end of the stack_list\n",
        "                ### so, the last element of the stack_list will be the topmost element on the stack\n",
        "                self.relations.append(relation)\n",
        "                self.stack.pop(-2)\n",
        "            else: ## that is, action == 'RIGHTARC' ## arc from second-topmost to topmost word on the stack\n",
        "                relation = (self.stack[-2], self.stack[-1])\n",
        "                self.relations.append(relation)\n",
        "                self.stack.pop(-1)\n",
        "\n",
        "    def parse(self, actions):\n",
        "        print(\"Let's start:\")\n",
        "        output_parse_state(self)\n",
        "        print(\"*\" * 50)\n",
        "        for action in actions:\n",
        "            self.parse_step(action)\n",
        "            print(\"after action:\", action)\n",
        "            output_parse_state(self)\n",
        "            print(\"*\" * 50)\n",
        "\n",
        "\n",
        "def output_parse_state(parse):\n",
        "    print(\"Stack:\", \" \".join(parse.stack))\n",
        "    print(\"Buffer:\", \" \".join(parse.buffer))\n",
        "    print(\"Relations:\")\n",
        "    for relation in parse.relations:\n",
        "        print(\"  %s -> %s\" % (relation[0], relation[1]))"
      ],
      "execution_count": null,
      "outputs": []
    },
    {
      "cell_type": "code",
      "metadata": {
        "id": "FmYtwXzReh49",
        "colab": {
          "base_uri": "https://localhost:8080/"
        },
        "outputId": "44ff92e5-2f22-4432-d140-ee7c81ba504f"
      },
      "source": [
        "sentence = \"Book me the morning flight\"\n",
        "\n",
        "actions = [\"SHIFT\", \"SHIFT\", \"RIGHTARC\", \"SHIFT\", \"SHIFT\", \"SHIFT\", \"LEFTARC\", \n",
        "           \"LEFTARC\", \"RIGHTARC\", \"RIGHTARC\"]\n",
        "           \n",
        "parse_obj = Parse(sentence)\n",
        "## after _init_, we should have a Stack_list having [ROOT] element only, a Input_Buffer having each token in the sentence, an empty Relations_list\n",
        "parse_obj.parse(actions)"
      ],
      "execution_count": null,
      "outputs": [
        {
          "output_type": "stream",
          "name": "stdout",
          "text": [
            "Let's start:\n",
            "Stack: <ROOT>\n",
            "Buffer: Book me the morning flight\n",
            "Relations:\n",
            "**************************************************\n",
            "after action: SHIFT\n",
            "Stack: <ROOT> Book\n",
            "Buffer: me the morning flight\n",
            "Relations:\n",
            "**************************************************\n",
            "after action: SHIFT\n",
            "Stack: <ROOT> Book me\n",
            "Buffer: the morning flight\n",
            "Relations:\n",
            "**************************************************\n",
            "after action: RIGHTARC\n",
            "Stack: <ROOT> Book\n",
            "Buffer: the morning flight\n",
            "Relations:\n",
            "  Book -> me\n",
            "**************************************************\n",
            "after action: SHIFT\n",
            "Stack: <ROOT> Book the\n",
            "Buffer: morning flight\n",
            "Relations:\n",
            "  Book -> me\n",
            "**************************************************\n",
            "after action: SHIFT\n",
            "Stack: <ROOT> Book the morning\n",
            "Buffer: flight\n",
            "Relations:\n",
            "  Book -> me\n",
            "**************************************************\n",
            "after action: SHIFT\n",
            "Stack: <ROOT> Book the morning flight\n",
            "Buffer: \n",
            "Relations:\n",
            "  Book -> me\n",
            "**************************************************\n",
            "after action: LEFTARC\n",
            "Stack: <ROOT> Book the flight\n",
            "Buffer: \n",
            "Relations:\n",
            "  Book -> me\n",
            "  flight -> morning\n",
            "**************************************************\n",
            "after action: LEFTARC\n",
            "Stack: <ROOT> Book flight\n",
            "Buffer: \n",
            "Relations:\n",
            "  Book -> me\n",
            "  flight -> morning\n",
            "  flight -> the\n",
            "**************************************************\n",
            "after action: RIGHTARC\n",
            "Stack: <ROOT> Book\n",
            "Buffer: \n",
            "Relations:\n",
            "  Book -> me\n",
            "  flight -> morning\n",
            "  flight -> the\n",
            "  Book -> flight\n",
            "**************************************************\n",
            "after action: RIGHTARC\n",
            "Stack: <ROOT>\n",
            "Buffer: \n",
            "Relations:\n",
            "  Book -> me\n",
            "  flight -> morning\n",
            "  flight -> the\n",
            "  Book -> flight\n",
            "  <ROOT> -> Book\n",
            "**************************************************\n"
          ]
        }
      ]
    },
    {
      "cell_type": "markdown",
      "metadata": {
        "id": "9hrQQZd9Odl9"
      },
      "source": [
        "###Discussion\n",
        "Where does this list of actions come from? It looks magic, but how can I know what actions to apply? A classifier is trained to predict what the next action is given the current state.\n",
        "This machine learning classifier takes the state of buffer, stack, previous list of relations as input, and predict what the next action is. \n",
        "\n",
        "For more details, please read ***Lecture 7 from slide 76***"
      ]
    },
    {
      "cell_type": "markdown",
      "metadata": {
        "id": "fAkHrLEWRdj8"
      },
      "source": [
        "# Dependency Parsing Answer\n",
        "\n",
        "This the answer for the question at the start of the lab. We have included labels, but you do not need to.\n",
        "\n",
        "![alt text](https://www.researchgate.net/publication/334216098/figure/fig4/AS:776769690951681@1562207734172/A-sentence-in-dependency-format-Source-19-p-245.jpg)"
      ]
    },
    {
      "cell_type": "markdown",
      "metadata": {
        "id": "VjU4dfyNgfAU"
      },
      "source": [
        "# Exercise"
      ]
    },
    {
      "cell_type": "markdown",
      "source": [
        "## E1. Multiple Choice Questions\n",
        "\n",
        "Please answer the two questions below. Note - you must get both right to get a point."
      ],
      "metadata": {
        "id": "f_ciV4W1UGDa"
      }
    },
    {
      "cell_type": "markdown",
      "metadata": {
        "id": "PV9OwwRVggJS"
      },
      "source": [
        "### Question 1\n",
        "The following diagram shows the transition probabilities for a Markov model for Part-of-Speech (POS) tags:\n",
        "\n",
        "![initial dependency parsing state](https://drive.google.com/uc?export=view&id=1bHV4i7OZdhMpylEaUpxZGvHIkavDF6BC)\n",
        "\n",
        "The image can be found at: <https://drive.google.com/file/d/1bHV4i7OZdhMpylEaUpxZGvHIkavDF6BC/view?usp=share_link>. The values it shows can also be read in this table:\n",
        "\n",
        "From, To ->    | DT | RB | JJ | NN \n",
        "------|----|----|----|----\n",
        "START | 0.6 | 0.15 | 0 | 0.25 \n",
        "DT    | 0 | 0.1 | 0.3 | 0.6\n",
        "RB    | 0 | 0 | 0.6 | 0.4\n",
        "JJ    | 0 | 0.05 | 0 | 0.95\n",
        "NN    | 0.05 | 0.75 | 0.2 | 0 \n",
        "\n",
        "For example, the edge from DT to RB has a value of 0.1.\n",
        "\n",
        "Suppose that you need to evaluate the phrase ‘The NLP’. Unfortunately, you do not know the POS tag for \"NLP\". If you do know that \"the\" had the tag \"DT\", then, according to the transition probabilities above, which of the following are possible tag sequences for the phrase \"The NLP\"? (provide all that are possible)\n",
        "\n",
        "1. DT, RB, JJ\n",
        "2. DT, JJ\n",
        "3. DT, RB\n",
        "4. RB, NN\n",
        "5. DT, NN\n",
        "6. DT, NN, RB\n",
        "7. DT, JJ, JJ\n",
        "8. NN, JJ"
      ]
    },
    {
      "cell_type": "markdown",
      "source": [
        "Answer:\n",
        "\n"
      ],
      "metadata": {
        "id": "KXJtfcPzTJDY"
      }
    },
    {
      "cell_type": "markdown",
      "source": [
        "### Question 2\n",
        "\n",
        "Two popular dependency parsing approaches are: 1) graph-based and 2) transition-based. Which of the statements below are CORRECT?\n",
        "\n",
        "1. The transition-based parser makes a series of sequential decisions, whereas the graph-based parser uses an algorithm to decide the entire parse simultaneously.\n",
        "2. Transition-based parsers can use neural models to score edges, but graph-based parsers cannot.\n",
        "3. Transition-based and graph-based parsers can both produce any projective dependency parse.\n",
        "4. UAS is always greater than or equal to LAS."
      ],
      "metadata": {
        "id": "sojgtsh-UITX"
      }
    },
    {
      "cell_type": "markdown",
      "source": [
        "Answer:"
      ],
      "metadata": {
        "id": "i0kd97DXUIc1"
      }
    },
    {
      "cell_type": "markdown",
      "metadata": {
        "id": "SA5A4eBdcMPJ"
      },
      "source": [
        "##E2. SpaCy Parser Practice\n",
        "\n",
        "You are going to write a function which takes the index of a sentence as input and return the **LAS** of the output produced by the spaCy model, you should also **visualise the parsing graph** produced by the spaCy model.\n",
        "\n",
        "The data we will use is from Universal Dependencies. For details about LAS, see Lecture 7, slides 78-80.\n",
        "\n",
        "First, we provide some code to download and prepare the data:"
      ]
    },
    {
      "cell_type": "code",
      "metadata": {
        "id": "ncurRJe1lzrl",
        "colab": {
          "base_uri": "https://localhost:8080/"
        },
        "outputId": "0d03bf80-21c1-4ebb-be7b-4826e6c00aa3"
      },
      "source": [
        "!wget https://raw.githubusercontent.com/UniversalDependencies/UD_English-Atis/master/en_atis-ud-dev.conllu\n",
        "\n",
        "!pip install conllu\n",
        "from io import open\n",
        "from conllu import parse_incr\n",
        "import spacy\n",
        "import numpy as np\n",
        "from spacy import displacy\n",
        "\n",
        "nlp = spacy.load(\"en_core_web_sm\")\n",
        "data_file = open(\"en_atis-ud-dev.conllu\", \"r\", encoding=\"utf-8\")\n",
        "\n",
        "sent_list = []\n",
        "gold_head_list = []\n",
        "gold_label_list = []\n",
        "n = 0\n",
        " \n",
        "for tokenlist in parse_incr(data_file):\n",
        "    n += 1\n",
        "    if n > 20:\n",
        "        break\n",
        "\n",
        "    sent = tokenlist.metadata['text']\n",
        "    gold_head = [token['head'] for i, token in enumerate(tokenlist)]    \n",
        "    gold_label = [token['deprel'] for i, token in enumerate(tokenlist)]\n",
        "    sent_list.append(sent)\n",
        "    gold_head_list.append(gold_head)\n",
        "    gold_label_list.append(gold_label)\n",
        "\n",
        "print(sent_list[1])\n",
        "print(gold_head_list[1])\n",
        "print(gold_label_list[1])"
      ],
      "execution_count": null,
      "outputs": [
        {
          "output_type": "stream",
          "name": "stdout",
          "text": [
            "--2023-04-16 04:18:58--  https://raw.githubusercontent.com/UniversalDependencies/UD_English-Atis/master/en_atis-ud-dev.conllu\n",
            "Resolving raw.githubusercontent.com (raw.githubusercontent.com)... 185.199.111.133, 185.199.108.133, 185.199.109.133, ...\n",
            "Connecting to raw.githubusercontent.com (raw.githubusercontent.com)|185.199.111.133|:443... connected.\n",
            "HTTP request sent, awaiting response... 200 OK\n",
            "Length: 349562 (341K) [text/plain]\n",
            "Saving to: ‘en_atis-ud-dev.conllu’\n",
            "\n",
            "\ren_atis-ud-dev.conl   0%[                    ]       0  --.-KB/s               \ren_atis-ud-dev.conl 100%[===================>] 341.37K  --.-KB/s    in 0.03s   \n",
            "\n",
            "2023-04-16 04:18:58 (10.1 MB/s) - ‘en_atis-ud-dev.conllu’ saved [349562/349562]\n",
            "\n",
            "Looking in indexes: https://pypi.org/simple, https://us-python.pkg.dev/colab-wheels/public/simple/\n",
            "Requirement already satisfied: conllu in /usr/local/lib/python3.9/dist-packages (4.5.2)\n",
            "i want a flight from memphis to seattle that arrives no later than 3 pm\n",
            "[2, 0, 4, 2, 6, 4, 8, 4, 10, 4, 12, 10, 15, 15, 12]\n",
            "['nsubj', 'root', 'det', 'obj', 'case', 'nmod', 'case', 'nmod', 'nsubj', 'acl:relcl', 'det', 'obl', 'case', 'nummod', 'nmod']\n"
          ]
        }
      ]
    },
    {
      "cell_type": "markdown",
      "source": [
        "Now, please write y\n",
        "\n",
        "**Note:** Please DO NOT change the code outside of the parse_LAS function"
      ],
      "metadata": {
        "id": "VQ7ke2JaqlX5"
      }
    },
    {
      "cell_type": "code",
      "metadata": {
        "id": "Gq0GKBzKrbn6"
      },
      "source": [
        "def parse_LAS(index_sent):\n",
        "    sent = sent_list[index_sent]\n",
        "    gold_head = gold_head_list[index_sent]\n",
        "\n",
        "    # Please complete this part\n",
        "\n",
        "\n",
        "    return parsed, las_accuracy\n",
        "\n",
        "\n",
        "parsed, LAS = parse_LAS(1)\n",
        "print(\"LAS: {0:.4f}\".format(LAS))\n",
        "displacy.render(parsed, style='dep', jupyter=True, options={'distance':90})"
      ],
      "execution_count": null,
      "outputs": []
    }
  ]
}